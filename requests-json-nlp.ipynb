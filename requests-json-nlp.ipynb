{
 "cells": [
  {
   "cell_type": "markdown",
   "metadata": {},
   "source": [
    "# Web Mining and Applied NLP (44-620)\n",
    "\n",
    "## Requests, JSON, and NLP\n",
    "\n",
    "### Student Name: Andy Asher [github link](https://github.com/andyakiva/json-sentiment)\n",
    "\n",
    "Perform the tasks described in the Markdown cells below.  When you have completed the assignment make sure your code cells have all been run (and have output beneath them) and ensure you have committed and pushed ALL of your changes to your assignment repository.\n",
    "\n",
    "Make sure you have [installed spaCy and its pipeline](https://spacy.io/usage#quickstart) and [spaCyTextBlob](https://spacy.io/universe/project/spacy-textblob)\n",
    "\n",
    "Every question that requires you to write code will have a code cell underneath it; you may either write your entire solution in that cell or write it in a python file (`.py`), then import and run the appropriate code to answer the question.\n",
    "\n",
    "This assignment requires that you write additional files (either JSON or pickle files); make sure to submit those files in your repository as well."
   ]
  },
  {
   "cell_type": "markdown",
   "metadata": {},
   "source": [
    "1. The following code accesses the [lyrics.ovh](https://lyricsovh.docs.apiary.io/#reference/0/lyrics-of-a-song/search) public api, searches for the lyrics of a song, and stores it in a dictionary object.  Write the resulting json to a file (either a JSON file or a pickle file; you choose). You will read in the contents of this file for future questions so we do not need to frequently access the API."
   ]
  },
  {
   "cell_type": "markdown",
   "metadata": {},
   "source": [
    "# Question 1"
   ]
  },
  {
   "cell_type": "code",
   "execution_count": 14,
   "metadata": {},
   "outputs": [
    {
     "name": "stdout",
     "output_type": "stream",
     "text": [
      "All prereqs installed.\n",
      "Package                   Version\n",
      "------------------------- ----------\n",
      "annotated-types           0.6.0\n",
      "anyio                     4.0.0\n",
      "argon2-cffi               23.1.0\n",
      "argon2-cffi-bindings      21.2.0\n",
      "arrow                     1.3.0\n",
      "asttokens                 2.4.0\n",
      "async-lru                 2.0.4\n",
      "attrs                     23.1.0\n",
      "Babel                     2.13.0\n",
      "backcall                  0.2.0\n",
      "beautifulsoup4            4.12.2\n",
      "bleach                    6.1.0\n",
      "blis                      0.7.11\n",
      "boto3                     1.33.4\n",
      "botocore                  1.33.4\n",
      "catalogue                 2.0.10\n",
      "certifi                   2024.2.2\n",
      "cffi                      1.16.0\n",
      "charset-normalizer        3.3.2\n",
      "click                     8.1.7\n",
      "cloudpathlib              0.16.0\n",
      "colorama                  0.4.6\n",
      "comm                      0.1.4\n",
      "confection                0.1.4\n",
      "contourpy                 1.2.0\n",
      "cycler                    0.12.1\n",
      "cymem                     2.0.8\n",
      "debugpy                   1.8.0\n",
      "decorator                 5.1.1\n",
      "defusedxml                0.7.1\n",
      "en-core-web-sm            3.7.1\n",
      "executing                 2.0.0\n",
      "fastjsonschema            2.18.1\n",
      "fonttools                 4.50.0\n",
      "fqdn                      1.5.1\n",
      "idna                      3.6\n",
      "ipykernel                 6.25.2\n",
      "ipython                   8.16.1\n",
      "isoduration               20.11.0\n",
      "jedi                      0.19.1\n",
      "Jinja2                    3.1.3\n",
      "jmespath                  1.0.1\n",
      "joblib                    1.3.2\n",
      "json5                     0.9.14\n",
      "jsonpointer               2.4\n",
      "jsonschema                4.19.1\n",
      "jsonschema-specifications 2023.7.1\n",
      "jupyter_client            8.4.0\n",
      "jupyter_core              5.4.0\n",
      "jupyter-events            0.8.0\n",
      "jupyter-lsp               2.2.0\n",
      "jupyter_server            2.8.0\n",
      "jupyter_server_terminals  0.4.4\n",
      "jupyterlab                4.0.7\n",
      "jupyterlab-pygments       0.2.2\n",
      "jupyterlab_server         2.25.0\n",
      "kiwisolver                1.4.5\n",
      "langcodes                 3.3.0\n",
      "MarkupSafe                2.1.5\n",
      "matplotlib                3.8.3\n",
      "matplotlib-inline         0.1.6\n",
      "mistune                   3.0.2\n",
      "murmurhash                1.0.10\n",
      "nbclient                  0.8.0\n",
      "nbconvert                 7.9.2\n",
      "nbformat                  5.9.2\n",
      "nest-asyncio              1.5.8\n",
      "nltk                      3.8.1\n",
      "notebook_shim             0.2.3\n",
      "numpy                     1.26.4\n",
      "overrides                 7.4.0\n",
      "packaging                 24.0\n",
      "pandocfilters             1.5.0\n",
      "parso                     0.8.3\n",
      "pickleshare               0.7.5\n",
      "pillow                    10.2.0\n",
      "pip                       24.0\n",
      "platformdirs              3.11.0\n",
      "preshed                   3.0.9\n",
      "prometheus-client         0.17.1\n",
      "prompt-toolkit            3.0.39\n",
      "psutil                    5.9.6\n",
      "pure-eval                 0.2.2\n",
      "pycparser                 2.21\n",
      "pydantic                  2.6.4\n",
      "pydantic_core             2.16.3\n",
      "Pygments                  2.16.1\n",
      "pyparsing                 3.1.2\n",
      "python-dateutil           2.8.2\n",
      "python-json-logger        2.0.7\n",
      "pywin32                   306\n",
      "pywinpty                  2.0.12\n",
      "PyYAML                    6.0.1\n",
      "pyzmq                     25.1.1\n",
      "referencing               0.30.2\n",
      "regex                     2023.12.25\n",
      "requests                  2.31.0\n",
      "rfc3339-validator         0.1.4\n",
      "rfc3986-validator         0.1.1\n",
      "rpds-py                   0.10.6\n",
      "s3transfer                0.8.2\n",
      "scikit-learn              1.3.1\n",
      "scipy                     1.11.3\n",
      "Send2Trash                1.8.2\n",
      "setuptools                69.2.0\n",
      "six                       1.16.0\n",
      "smart-open                6.4.0\n",
      "sniffio                   1.3.0\n",
      "soupsieve                 2.5\n",
      "spacy                     3.7.4\n",
      "spacy-legacy              3.0.12\n",
      "spacy-loggers             1.0.5\n",
      "spacytextblob             4.0.0\n",
      "srsly                     2.4.8\n",
      "stack-data                0.6.3\n",
      "terminado                 0.17.1\n",
      "textblob                  0.15.3\n",
      "thinc                     8.2.3\n",
      "threadpoolctl             3.2.0\n",
      "tinycss2                  1.2.1\n",
      "tornado                   6.3.3\n",
      "tqdm                      4.66.2\n",
      "traitlets                 5.11.2\n",
      "typer                     0.9.4\n",
      "types-python-dateutil     2.8.19.14\n",
      "typing_extensions         4.10.0\n",
      "uri-template              1.3.0\n",
      "urllib3                   2.2.1\n",
      "wasabi                    1.1.2\n",
      "wcwidth                   0.2.8\n",
      "weasel                    0.3.4\n",
      "webcolors                 1.13\n",
      "webencodings              0.5.1\n",
      "websocket-client          1.6.4\n",
      "wheel                     0.43.0\n",
      "xmltodict                 0.13.0\n"
     ]
    },
    {
     "name": "stderr",
     "output_type": "stream",
     "text": [
      "WARNING: Skipping C:\\Users\\Andy\\Documents\\json-sentiment\\.env\\Lib\\site-packages\\lyricsgenius-3.0.1.dist-info due to invalid metadata entry 'name'\n",
      "WARNING: Skipping C:\\Users\\Andy\\Documents\\json-sentiment\\.env\\Lib\\site-packages\\lyricsgenius-3.0.1.dist-info due to invalid metadata entry 'name'\n",
      "WARNING: Skipping C:\\Users\\Andy\\Documents\\json-sentiment\\.env\\Lib\\site-packages\\lyricsgenius-3.0.1.dist-info due to invalid metadata entry 'name'\n",
      "WARNING: Skipping C:\\Users\\Andy\\Documents\\json-sentiment\\.env\\Lib\\site-packages\\lyricsgenius-3.0.1.dist-info due to invalid metadata entry 'name'\n"
     ]
    }
   ],
   "source": [
    "#import required libraries, modules, and packages for this project into the virtual env\n",
    "import json\n",
    "import pickle\n",
    "import requests\n",
    "import spacy\n",
    "from spacytextblob.spacytextblob import SpacyTextBlob\n",
    "import xmltodict #this will help us convert to json\n",
    "\n",
    "#show import success\n",
    "print('All prereqs installed.')\n",
    "!pip list\n",
    "\n",
    "#create a text file with song lyrics and info about the song\n",
    "# this assaignment originally used a now defunct api so we are using a different api\n",
    "# This API, when called like this, does not allow any of the following stop words when searching for either artist or title \"about, after, all, also, an, and, another, any, are, as, at, be, because, been, before, being, between, both, but, by, came, can, come, could, did, do, does, each, else, for, from, get, got, had, has, have, he, her, here, him, himself, his, how, if, in, into, is, it, its, just, like, make, many, me, might, more, most, much, must, my, never, no, now, of, on, only, or, other, our, out, over, re, said, same, see, should, since, so, some, still, such, take, than, that, the, their, them, then, there, these, they, this, those, through, to, too, under, up, use, very, want, was, way, we, well, were, what, when, where, which, while, who, will, with, would, you, your\"\n",
    "#This API, when called this way, does not allow special characters in the search\n",
    "artist = 'Interpol'\n",
    "song = 'Evil'\n",
    "result = requests.get('http://api.chartlyrics.com/apiv1.asmx/SearchLyricDirect?artist='+artist+'&song='+song).text\n",
    "\n",
    "#convrt that file to json\n",
    "dictver = xmltodict.parse(result)\n",
    "with open(song+artist+'.json','w') as outfile:\n",
    "    json.dump(dictver, outfile)\n"
   ]
  },
  {
   "cell_type": "markdown",
   "metadata": {},
   "source": [
    "2. Read in the contents of your file.  Print the lyrics of the song (not the entire dictionary!) and use spaCyTextBlob to perform sentiment analysis on the lyrics.  Print the polarity score of the sentiment analysis.  Given that the range of the polarity score is `[-1.0,1.0]` which corresponds to how positive or negative the text in question is, do you think the lyrics have a more positive or negative connotaion?  Answer this question in a comment in your code cell."
   ]
  },
  {
   "cell_type": "markdown",
   "metadata": {},
   "source": [
    "# Question 2"
   ]
  },
  {
   "cell_type": "code",
   "execution_count": 63,
   "metadata": {},
   "outputs": [
    {
     "name": "stdout",
     "output_type": "stream",
     "text": [
      "The lyrics for  Evil  by  Interpol  are:\n",
      "\n",
      "Rosemary, Heaven restores you in life\n",
      "You're coming with me\n",
      "Through the aging, the fearing, the strife\n",
      "\n",
      "It's the smiling on the package\n",
      "It's the faces in the sand\n",
      "It's the thought that moves you upwards\n",
      "Embracing me with two hands\n",
      "\n",
      "Right will take you places\n",
      "Yeah maybe to the beach\n",
      "When your friends they do come crying\n",
      "Tell them now your pleasure's set upon slow release\n",
      "\n",
      "Hey wait\n",
      "Great smile\n",
      "Sensitive to fate, not denial\n",
      "\n",
      "But hey, who's on trial?\n",
      "\n",
      "It took a lifespan with no cellmate\n",
      "The long way back\n",
      "Sandy, why can't we look the other way?\n",
      "\n",
      "We speaks about travel\n",
      "Yeah we think about the land\n",
      "We smart like all peoples\n",
      "Feeling real tan\n",
      "\n",
      "I could take you places\n",
      "But you need a new man?\n",
      "Wipe the pollen from the faces\n",
      "Make revision to a dream while you wait in the van\n",
      "\n",
      "Hey wait\n",
      "Great smile\n",
      "Sensitive to fate, not denial\n",
      "\n",
      "But hey, who's on trial?\n",
      "\n",
      "It took a lifespan with no cellmate\n",
      "The long way back\n",
      "Sandy, why can't we look the other way?\n",
      "You're weightless, you are exotic\n",
      "You need something for which to care\n",
      "Sandy, why can't we look the other way?\n",
      "\n",
      "Leave some shards under the belly\n",
      "Lay some grease inside my hand\n",
      "It's a sentimental jury\n",
      "And the makings of a good plan\n",
      "You've come to love me lightly\n",
      "Yeah you come to hold me tight\n",
      "Is this motion everlasting\n",
      "Or do shudders pass in the night?\n",
      "\n",
      "Rosemary, Heaven restores you in life\n",
      "\n",
      "I spent a lifespan with no cellmate\n",
      "The long way back\n",
      "Sandy, why can't we look the other way?\n",
      "You're weightless, semi-erotic\n",
      "You need someone to take you there\n",
      "Sandy, why can't we look the other way?\n",
      "Why can't we just play the other game?\n",
      "Why can't we just look the other way?\n",
      "\n",
      "The polarity score for  Evil  by  Interpol  is  0.08735733963006691\n"
     ]
    }
   ],
   "source": [
    "# Read in the contents of your file.  Print the lyrics of the song (not the entire dictionary!\n",
    "\n",
    "file = open('EvilInterpol.json')\n",
    "newfile = json.load(file)\n",
    "content = newfile.get('GetLyricResult')\n",
    "lyrics = content['Lyric']\n",
    "print(\"The lyrics for \",song,\" by \",artist, \" are:\\n\")\n",
    "print(lyrics)\n",
    "\n",
    "#use spaCyTextBlob to perform sentiment analysis on the lyrics.  \n",
    "nlp = spacy.load(\"en_core_web_sm\")\n",
    "nlp.add_pipe(\"spacytextblob\")\n",
    "\n",
    "score = nlp(lyrics)._.polarity\n",
    "\n",
    "#Print the polarity score of the sentiment analysis.  \n",
    "print(\"\\nThe polarity score for \",song,\" by \",artist, \" is \",score)\n",
    "\n",
    "#Given that the range of the polarity score is `[-1.0,1.0]` which corresponds to how positive or negative the text in question is, do you think the lyrics have a more positive or negative connotaion?  Answer this question in a comment in your code cell.\n",
    "\n",
    "#The polarity for the song is .087 which is very very mildly positive, but more acurately described as neutral. I think the sentiment analysis may have struggled with the cryptic nature of the lyrics as I beleive the song to be more strongly positive.\n"
   ]
  },
  {
   "cell_type": "markdown",
   "metadata": {},
   "source": [
    "3. Write a function that takes an artist, song, and filename, accesses the lyrics.ovh api to get the song lyrics, and writes the results to the specified filename.  Test this function by getting the lyrics to any four songs of your choice and storing them in different files."
   ]
  },
  {
   "cell_type": "markdown",
   "metadata": {},
   "source": [
    "# Question 3"
   ]
  },
  {
   "cell_type": "code",
   "execution_count": 77,
   "metadata": {},
   "outputs": [],
   "source": [
    "def storelyrics(artist, song, filename):\n",
    "    result = requests.get('http://api.chartlyrics.com/apiv1.asmx/SearchLyricDirect?artist='+artist+'&song='+song).text\n",
    "    dictver = xmltodict.parse(result)\n",
    "    with open(filename+'.json','w') as outfile:\n",
    "        json.dump(dictver, outfile)\n",
    "\n",
    "storelyrics(\"Marilyn Manson\", 'The Beautiful People', 'MMTBP')\n",
    "storelyrics(\"Five Finger Death Punch\",\"Never Enough\", \"FFDPNeverEnough\")\n",
    "storelyrics(\"Megadeth\",\"Almost Honest\",\"MDAlomstHonest\")\n",
    "storelyrics(\"Ozzy Osbourne\",\"Crazy Train\",\"OzzyOsbourneCrazyTrain\")\n",
    "\n"
   ]
  },
  {
   "cell_type": "markdown",
   "metadata": {},
   "source": [
    "4. Write a function that takes the name of a file that contains song lyrics, loads the file, performs sentiment analysis, and returns the polarity score.  Use this function to print the polarity scores (with the name of the song) of the three files you created in question 3.  Does the reported polarity match your understanding of the song's lyrics? Why or why not do you think that might be?  Answer the questions in either a comment in the code cell or a markdown cell under the code cell."
   ]
  },
  {
   "cell_type": "markdown",
   "metadata": {},
   "source": [
    "# Question 4"
   ]
  },
  {
   "cell_type": "code",
   "execution_count": 84,
   "metadata": {},
   "outputs": [
    {
     "name": "stdout",
     "output_type": "stream",
     "text": [
      "The polarity score for  Never Enough  by  Five Finger Death Punch  is  0.004720279720279719 .\n",
      "The polarity score for  Almost Honest  by  Megadeth  is  0.32129120879120876 .\n",
      "The polarity score for  The Beautiful People  by  Marilyn Manson  is  0.2821158008658008 .\n",
      "The polarity score for  Crazy Train  by  Ozzy Osbourne  is  -0.32107438016528916 .\n"
     ]
    }
   ],
   "source": [
    "#Write a function that takes the name of a file that contains song lyrics, loads the file, performs sentiment analysis, and returns the polarity score.  \n",
    "def analyze(filename):\n",
    "    file = open(filename)\n",
    "    newfile = json.load(file)\n",
    "    content = newfile.get('GetLyricResult')\n",
    "    lyrics = content['Lyric']\n",
    "    artist = content['LyricArtist']\n",
    "    song = content['LyricSong']\n",
    "    score = nlp(lyrics)._.polarity\n",
    "    print(\"The polarity score for \",song, \" by \", artist, \" is \", score,\".\")\n",
    "\n",
    "#Use this function to print the polarity scores (with the name of the song) of the three files you created in question 3.\n",
    "analyze('FFDPNeverEnough.json')\n",
    "analyze('MDAlomstHonest.json')\n",
    "analyze('MMTBP.json')\n",
    "analyze('OzzyOsbourneCrazyTrain.json')\n",
    "    \n",
    "#Does the reported polarity match your understanding of the song's lyrics? Why or why not do you think that might be? \n",
    "\n",
    "#No, not really. None of these should have a positive sentiment. The score for Crazy Train is pretty accurate, but the others are substantially off. All three are negative. Almost Honest is the closest to nuetral of the three but the other two are downright angry. I think the sentiment analysis is thrown off by sarcasm in the way Manson describes a veneer of beauty covering violent facists. I am unsure what is throwing off the analysis in the FFDP song, though, as it is pretty straightforward. My only guess is that the analysis uses scoring on individual words instead of assessing a whole phrase."
   ]
  },
  {
   "cell_type": "code",
   "execution_count": 86,
   "metadata": {},
   "outputs": [
    {
     "name": "stderr",
     "output_type": "stream",
     "text": [
      "[NbConvertApp] Converting notebook requests-json-nlp.ipynb to html\n",
      "[NbConvertApp] Writing 299024 bytes to requests-json-nlp.html\n"
     ]
    }
   ],
   "source": [
    "!jupyter nbconvert --to html requests-json-nlp.ipynb"
   ]
  }
 ],
 "metadata": {
  "kernelspec": {
   "display_name": "Python 3",
   "language": "python",
   "name": "python3"
  },
  "language_info": {
   "codemirror_mode": {
    "name": "ipython",
    "version": 3
   },
   "file_extension": ".py",
   "mimetype": "text/x-python",
   "name": "python",
   "nbconvert_exporter": "python",
   "pygments_lexer": "ipython3",
   "version": "3.12.0"
  }
 },
 "nbformat": 4,
 "nbformat_minor": 4
}
